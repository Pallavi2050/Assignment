{
 "cells": [
  {
   "cell_type": "markdown",
   "id": "83b6474b",
   "metadata": {},
   "source": [
    "1) Write a program to find the lowest number out of two numbers excepted from user."
   ]
  },
  {
   "cell_type": "code",
   "execution_count": 1,
   "id": "e2cf055e",
   "metadata": {},
   "outputs": [
    {
     "name": "stdout",
     "output_type": "stream",
     "text": [
      "Enter the first number: 4\n",
      "Enter the second number: 5\n",
      "The number 5.0 is greater.\n"
     ]
    }
   ],
   "source": [
    "# Get input from the user\n",
    "num1 = float(input(\"Enter the first number: \"))\n",
    "num2 = float(input(\"Enter the second number: \"))\n",
    "\n",
    "# Compare the two numbers and find the lowest\n",
    "if num1 < num2:\n",
    "    print(f\"The number {num2} is greater.\")\n",
    "else:\n",
    "    print(f\"The number {num1} is greater.\")"
   ]
  },
  {
   "cell_type": "markdown",
   "id": "222c1cbf",
   "metadata": {},
   "source": [
    "2) Write a program to whether a number (accepted from user) is divisible by 2 and 3 both."
   ]
  },
  {
   "cell_type": "code",
   "execution_count": 3,
   "id": "e645e811",
   "metadata": {},
   "outputs": [
    {
     "name": "stdout",
     "output_type": "stream",
     "text": [
      "Enter a number: 4\n",
      "4 is not divisible by 2 and 3 both.\n"
     ]
    }
   ],
   "source": [
    "# Get input from the user\n",
    "number = int(input(\"Enter a number: \"))\n",
    "\n",
    "# Check if the number is divisible by 2 and 3 both\n",
    "if number % 2 == 0 and number % 3 == 0:\n",
    "    print(f\"{number} is divisible by 2 and 3 both.\")\n",
    "else:\n",
    "    print(f\"{number} is not divisible by 2 and 3 both.\")\n"
   ]
  },
  {
   "cell_type": "markdown",
   "id": "e9b3e1bb",
   "metadata": {},
   "source": [
    "3) Accept the age of 4 people and display the oldest one."
   ]
  },
  {
   "cell_type": "code",
   "execution_count": 4,
   "id": "fdba2f1f",
   "metadata": {},
   "outputs": [
    {
     "name": "stdout",
     "output_type": "stream",
     "text": [
      "Enter age of person 1: 45\n",
      "Enter age of person 2: 52\n",
      "Enter age of person 3: 45\n",
      "Enter age of person 4: 63\n",
      "The person with age 63 is oldest.\n"
     ]
    }
   ],
   "source": [
    "# Get ages from the user\n",
    "age1 = int(input(\"Enter age of person 1: \"))\n",
    "age2 = int(input(\"Enter age of person 2: \"))\n",
    "age3 = int(input(\"Enter age of person 3: \"))\n",
    "age4 = int(input(\"Enter age of person 4: \"))\n",
    "\n",
    "max_age = max(age1,age2,age3,age4)\n",
    "print(f\"The person with age {max_age} is oldest.\")\n"
   ]
  },
  {
   "cell_type": "markdown",
   "id": "f9199eec",
   "metadata": {},
   "source": [
    "4) Write a program to check whether a number  is prime or not."
   ]
  },
  {
   "cell_type": "code",
   "execution_count": 11,
   "id": "0e9a462d",
   "metadata": {},
   "outputs": [
    {
     "name": "stdout",
     "output_type": "stream",
     "text": [
      "Enter a number: 2\n",
      "The number 2 is prime\n"
     ]
    }
   ],
   "source": [
    "# Get input from the user\n",
    "num = int(input(\"Enter a number: \"))\n",
    "\n",
    "# Check if the number is prime\n",
    "for i in range(2,num):\n",
    "    if num == 2:\n",
    "        print(f\"The number {num} is prime\")\n",
    "        break\n",
    "    if num % i == 0:\n",
    "        print(f\"The number {num} is not prime\")\n",
    "        break\n",
    "else:\n",
    "    print(f\"The number {num} is prime\")  \n"
   ]
  },
  {
   "cell_type": "code",
   "execution_count": 12,
   "id": "3e7a7ba7",
   "metadata": {},
   "outputs": [
    {
     "name": "stdout",
     "output_type": "stream",
     "text": [
      "Enter the number to check if it is prime : 2\n",
      "The number 2 is prime\n"
     ]
    }
   ],
   "source": [
    "num = int(input(\"Enter the number to check if it is prime : \"))\n",
    "for i in range(2,int(num**(1/2))+1):\n",
    "    if num == 2:\n",
    "        print(f\"The number {num} is prime\")\n",
    "        break\n",
    "    if num % i == 0:\n",
    "        print(f\"The number {num} is not prime\")\n",
    "        break\n",
    "else:\n",
    "    print(f\"The number {num} is prime\")  "
   ]
  },
  {
   "cell_type": "markdown",
   "id": "32a96054",
   "metadata": {},
   "source": [
    "5) Write a program to check a character is vowel or not."
   ]
  },
  {
   "cell_type": "code",
   "execution_count": 13,
   "id": "ba4df42d",
   "metadata": {},
   "outputs": [
    {
     "name": "stdout",
     "output_type": "stream",
     "text": [
      "Enter a character: a\n",
      "The character a is a vowel.\n"
     ]
    }
   ],
   "source": [
    "# Get input from the user (assuming a single character is entered)\n",
    "char = input(\"Enter a character: \")\n",
    "\n",
    "# Convert the character to lowercase to handle both upper and lower case\n",
    "char = char.lower()\n",
    "\n",
    "# Check if the character is a vowel\n",
    "if char == 'a' or char == 'e' or char == 'i' or char == 'o' or char == 'u':\n",
    "    print(f\"The character {char} is a vowel.\")\n",
    "else:\n",
    "    print(f\"The character {char} is not a vowel.\")\n"
   ]
  },
  {
   "cell_type": "code",
   "execution_count": null,
   "id": "c3d81bf8",
   "metadata": {},
   "outputs": [],
   "source": []
  }
 ],
 "metadata": {
  "kernelspec": {
   "display_name": "Python 3 (ipykernel)",
   "language": "python",
   "name": "python3"
  },
  "language_info": {
   "codemirror_mode": {
    "name": "ipython",
    "version": 3
   },
   "file_extension": ".py",
   "mimetype": "text/x-python",
   "name": "python",
   "nbconvert_exporter": "python",
   "pygments_lexer": "ipython3",
   "version": "3.10.9"
  }
 },
 "nbformat": 4,
 "nbformat_minor": 5
}
